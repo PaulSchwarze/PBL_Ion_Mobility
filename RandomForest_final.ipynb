{
 "cells": [
  {
   "metadata": {
    "ExecuteTime": {
     "end_time": "2024-10-27T09:36:31.383278Z",
     "start_time": "2024-10-27T09:36:31.019928Z"
    }
   },
   "cell_type": "code",
   "source": [
    "# ideas\n",
    "# vlt auch nochmal die dublicates im allgemeinen raushauen oder startifien \n",
    "# check wie viele duplicates im oder außerhalb vom split sind\n",
    "# mass als baseline benutzen, dann nehme ich alle und mache feature im portance gehe nur mit mass und charge weiter dann mache ich randomized cross validation und zeige wie sich die features angepasst haben\n",
    "# min max nach dem splitten \n",
    "\n",
    "\n",
    "\n",
    "# load and show dataset\n",
    "import pandas as pd\n",
    "\n",
    "file_path = 'RandomForest Datenset 1.csv'\n",
    "data = pd.read_csv(file_path, sep = \"\\t\").dropna()\n",
    "print(data['Charge'].value_counts())\n",
    "\n",
    "data"
   ],
   "id": "17e51349824d9cc7",
   "outputs": [
    {
     "name": "stdout",
     "output_type": "stream",
     "text": [
      "Charge\n",
      "2    78454\n",
      "1    35452\n",
      "3    26913\n",
      "4     3294\n",
      "Name: count, dtype: int64\n"
     ]
    },
    {
     "data": {
      "text/plain": [
       "                                                 Sequence  Charge  \\\n",
       "0       AAAAAAAAAAAATGTEAGPGTAGGSENGSEVAAQPAGLSGPAEVGP...       4   \n",
       "1                                              AAAAAAAAAK       1   \n",
       "2                           AAAAAAAAAPAAAATAPTTAATTAATAAQ       2   \n",
       "3                           AAAAAAAAAPAAAATAPTTAATTAATAAQ       3   \n",
       "4                                                AAAAAAAK       1   \n",
       "...                                                   ...     ...   \n",
       "144112                                     YYYNCRTEVSQWEK       3   \n",
       "144113                                   YYYNCRTEVSQWEKPK       3   \n",
       "144114                                         YYYQGCASWK       2   \n",
       "144115                                  YYYVCQYCPAMKTYLNK       3   \n",
       "144116                                      YYYVPADFVEYEK       2   \n",
       "\n",
       "               Mass  Length           CCS  NumRotatableBonds  NumConformers  \\\n",
       "0       4401.106890      52  2.654046e-35              134.0            0.0   \n",
       "1        785.439552      10  5.981752e-36               23.0            0.0   \n",
       "2       2367.203020      29  1.208337e-35               64.0            0.0   \n",
       "3       2367.203020      29  2.200959e-35               64.0            0.0   \n",
       "4        643.365324       8  6.811654e-36               19.0            0.0   \n",
       "...             ...     ...           ...                ...            ...   \n",
       "144112  1924.841400      14  2.846427e-35               58.0            0.0   \n",
       "144113  2149.989120      16  2.854486e-35               65.0            0.0   \n",
       "144114  1324.554660      10  1.742139e-35               36.0            0.0   \n",
       "144115  2264.010450      17  2.726609e-35               64.0            0.0   \n",
       "144116  1684.766090      13  1.524399e-35               48.0            0.0   \n",
       "\n",
       "        NumAtoms  FractionSP3  \n",
       "0          309.0     0.668508  \n",
       "1           55.0     0.696970  \n",
       "2          166.0     0.696970  \n",
       "3          166.0     0.696970  \n",
       "4           45.0     0.703704  \n",
       "...          ...          ...  \n",
       "144112     132.0     0.464286  \n",
       "144113     148.0     0.505263  \n",
       "144114      90.0     0.383333  \n",
       "144115     150.0     0.510000  \n",
       "144116     121.0     0.445783  \n",
       "\n",
       "[144113 rows x 9 columns]"
      ],
      "text/html": [
       "<div>\n",
       "<style scoped>\n",
       "    .dataframe tbody tr th:only-of-type {\n",
       "        vertical-align: middle;\n",
       "    }\n",
       "\n",
       "    .dataframe tbody tr th {\n",
       "        vertical-align: top;\n",
       "    }\n",
       "\n",
       "    .dataframe thead th {\n",
       "        text-align: right;\n",
       "    }\n",
       "</style>\n",
       "<table border=\"1\" class=\"dataframe\">\n",
       "  <thead>\n",
       "    <tr style=\"text-align: right;\">\n",
       "      <th></th>\n",
       "      <th>Sequence</th>\n",
       "      <th>Charge</th>\n",
       "      <th>Mass</th>\n",
       "      <th>Length</th>\n",
       "      <th>CCS</th>\n",
       "      <th>NumRotatableBonds</th>\n",
       "      <th>NumConformers</th>\n",
       "      <th>NumAtoms</th>\n",
       "      <th>FractionSP3</th>\n",
       "    </tr>\n",
       "  </thead>\n",
       "  <tbody>\n",
       "    <tr>\n",
       "      <th>0</th>\n",
       "      <td>AAAAAAAAAAAATGTEAGPGTAGGSENGSEVAAQPAGLSGPAEVGP...</td>\n",
       "      <td>4</td>\n",
       "      <td>4401.106890</td>\n",
       "      <td>52</td>\n",
       "      <td>2.654046e-35</td>\n",
       "      <td>134.0</td>\n",
       "      <td>0.0</td>\n",
       "      <td>309.0</td>\n",
       "      <td>0.668508</td>\n",
       "    </tr>\n",
       "    <tr>\n",
       "      <th>1</th>\n",
       "      <td>AAAAAAAAAK</td>\n",
       "      <td>1</td>\n",
       "      <td>785.439552</td>\n",
       "      <td>10</td>\n",
       "      <td>5.981752e-36</td>\n",
       "      <td>23.0</td>\n",
       "      <td>0.0</td>\n",
       "      <td>55.0</td>\n",
       "      <td>0.696970</td>\n",
       "    </tr>\n",
       "    <tr>\n",
       "      <th>2</th>\n",
       "      <td>AAAAAAAAAPAAAATAPTTAATTAATAAQ</td>\n",
       "      <td>2</td>\n",
       "      <td>2367.203020</td>\n",
       "      <td>29</td>\n",
       "      <td>1.208337e-35</td>\n",
       "      <td>64.0</td>\n",
       "      <td>0.0</td>\n",
       "      <td>166.0</td>\n",
       "      <td>0.696970</td>\n",
       "    </tr>\n",
       "    <tr>\n",
       "      <th>3</th>\n",
       "      <td>AAAAAAAAAPAAAATAPTTAATTAATAAQ</td>\n",
       "      <td>3</td>\n",
       "      <td>2367.203020</td>\n",
       "      <td>29</td>\n",
       "      <td>2.200959e-35</td>\n",
       "      <td>64.0</td>\n",
       "      <td>0.0</td>\n",
       "      <td>166.0</td>\n",
       "      <td>0.696970</td>\n",
       "    </tr>\n",
       "    <tr>\n",
       "      <th>4</th>\n",
       "      <td>AAAAAAAK</td>\n",
       "      <td>1</td>\n",
       "      <td>643.365324</td>\n",
       "      <td>8</td>\n",
       "      <td>6.811654e-36</td>\n",
       "      <td>19.0</td>\n",
       "      <td>0.0</td>\n",
       "      <td>45.0</td>\n",
       "      <td>0.703704</td>\n",
       "    </tr>\n",
       "    <tr>\n",
       "      <th>...</th>\n",
       "      <td>...</td>\n",
       "      <td>...</td>\n",
       "      <td>...</td>\n",
       "      <td>...</td>\n",
       "      <td>...</td>\n",
       "      <td>...</td>\n",
       "      <td>...</td>\n",
       "      <td>...</td>\n",
       "      <td>...</td>\n",
       "    </tr>\n",
       "    <tr>\n",
       "      <th>144112</th>\n",
       "      <td>YYYNCRTEVSQWEK</td>\n",
       "      <td>3</td>\n",
       "      <td>1924.841400</td>\n",
       "      <td>14</td>\n",
       "      <td>2.846427e-35</td>\n",
       "      <td>58.0</td>\n",
       "      <td>0.0</td>\n",
       "      <td>132.0</td>\n",
       "      <td>0.464286</td>\n",
       "    </tr>\n",
       "    <tr>\n",
       "      <th>144113</th>\n",
       "      <td>YYYNCRTEVSQWEKPK</td>\n",
       "      <td>3</td>\n",
       "      <td>2149.989120</td>\n",
       "      <td>16</td>\n",
       "      <td>2.854486e-35</td>\n",
       "      <td>65.0</td>\n",
       "      <td>0.0</td>\n",
       "      <td>148.0</td>\n",
       "      <td>0.505263</td>\n",
       "    </tr>\n",
       "    <tr>\n",
       "      <th>144114</th>\n",
       "      <td>YYYQGCASWK</td>\n",
       "      <td>2</td>\n",
       "      <td>1324.554660</td>\n",
       "      <td>10</td>\n",
       "      <td>1.742139e-35</td>\n",
       "      <td>36.0</td>\n",
       "      <td>0.0</td>\n",
       "      <td>90.0</td>\n",
       "      <td>0.383333</td>\n",
       "    </tr>\n",
       "    <tr>\n",
       "      <th>144115</th>\n",
       "      <td>YYYVCQYCPAMKTYLNK</td>\n",
       "      <td>3</td>\n",
       "      <td>2264.010450</td>\n",
       "      <td>17</td>\n",
       "      <td>2.726609e-35</td>\n",
       "      <td>64.0</td>\n",
       "      <td>0.0</td>\n",
       "      <td>150.0</td>\n",
       "      <td>0.510000</td>\n",
       "    </tr>\n",
       "    <tr>\n",
       "      <th>144116</th>\n",
       "      <td>YYYVPADFVEYEK</td>\n",
       "      <td>2</td>\n",
       "      <td>1684.766090</td>\n",
       "      <td>13</td>\n",
       "      <td>1.524399e-35</td>\n",
       "      <td>48.0</td>\n",
       "      <td>0.0</td>\n",
       "      <td>121.0</td>\n",
       "      <td>0.445783</td>\n",
       "    </tr>\n",
       "  </tbody>\n",
       "</table>\n",
       "<p>144113 rows × 9 columns</p>\n",
       "</div>"
      ]
     },
     "execution_count": 45,
     "metadata": {},
     "output_type": "execute_result"
    }
   ],
   "execution_count": 45
  },
  {
   "metadata": {
    "ExecuteTime": {
     "end_time": "2024-10-27T09:36:45.426203Z",
     "start_time": "2024-10-27T09:36:33.093107Z"
    }
   },
   "cell_type": "code",
   "source": [
    "# Schritt 1: Nach Sequenzen gruppieren\n",
    "grouped = data.groupby(\"Sequence\")\n",
    "\n",
    "# Erstellen einer Liste, in der jede Sequenz eine Gruppe ist\n",
    "grouped_data = [(seq, group) for seq, group in grouped]"
   ],
   "id": "c21d2c88577f56f2",
   "outputs": [],
   "execution_count": 46
  },
  {
   "metadata": {
    "ExecuteTime": {
     "end_time": "2024-10-27T09:36:57.801729Z",
     "start_time": "2024-10-27T09:36:45.430336Z"
    }
   },
   "cell_type": "code",
   "source": [
    "\n",
    "# splitting\n",
    "from sklearn.model_selection import train_test_split\n",
    "\n",
    "X_unscaled = data.drop(columns=['CCS', 'Sequence', 'NumConformers'])\n",
    "y_unscaled = data['CCS']\n",
    "\n",
    "train_groups, test_groups = train_test_split(grouped_data, test_size = 0.2, random_state=42)\n",
    "\n",
    "# Schritt 3: Die Gruppendaten wieder in DataFrames konvertieren\n",
    "train_df = pd.concat([group for _, group in train_groups])\n",
    "test_df = pd.concat([group for _, group in test_groups])"
   ],
   "id": "d1a2c1fd3323bacd",
   "outputs": [],
   "execution_count": 47
  },
  {
   "metadata": {
    "ExecuteTime": {
     "end_time": "2024-10-27T09:36:57.811337Z",
     "start_time": "2024-10-27T09:36:57.804208Z"
    }
   },
   "cell_type": "code",
   "source": "len(train_df)",
   "id": "d85485d1a781cdae",
   "outputs": [
    {
     "data": {
      "text/plain": [
       "115284"
      ]
     },
     "execution_count": 48,
     "metadata": {},
     "output_type": "execute_result"
    }
   ],
   "execution_count": 48
  },
  {
   "metadata": {
    "ExecuteTime": {
     "end_time": "2024-10-27T09:36:57.822401Z",
     "start_time": "2024-10-27T09:36:57.815309Z"
    }
   },
   "cell_type": "code",
   "source": "len(test_df)",
   "id": "bbd635cd21203290",
   "outputs": [
    {
     "data": {
      "text/plain": [
       "28829"
      ]
     },
     "execution_count": 49,
     "metadata": {},
     "output_type": "execute_result"
    }
   ],
   "execution_count": 49
  },
  {
   "metadata": {
    "ExecuteTime": {
     "end_time": "2024-10-27T09:36:57.892221Z",
     "start_time": "2024-10-27T09:36:57.824771Z"
    }
   },
   "cell_type": "code",
   "source": [
    "# Schritt 4: Sicherstellen, dass keine Sequenz in beiden Splits vorkommt\n",
    "# Liste der Sequenzen in test_df\n",
    "test_sequences = test_df['Sequence'].unique()\n",
    "\n",
    "# Entfernen aller Zeilen aus train_df, deren Sequenz auch in test_df vorkommt\n",
    "train_df = train_df[~train_df['Sequence'].isin(test_sequences)]\n",
    "\n",
    "train_df\n",
    "\n"
   ],
   "id": "7a001aa7bd711ef1",
   "outputs": [
    {
     "data": {
      "text/plain": [
       "115284"
      ]
     },
     "execution_count": 50,
     "metadata": {},
     "output_type": "execute_result"
    }
   ],
   "execution_count": 50
  },
  {
   "metadata": {
    "ExecuteTime": {
     "end_time": "2024-10-27T10:00:59.691147Z",
     "start_time": "2024-10-27T10:00:59.635811Z"
    }
   },
   "cell_type": "code",
   "source": [
    "# preprocessing\n",
    "from sklearn.preprocessing import MinMaxScaler\n",
    "y_scaler = MinMaxScaler()\n",
    "X_scaler = MinMaxScaler()\n",
    "\n",
    "# scale train\n",
    "y_train_unscaled = train_df['CCS'].values.reshape(-1,1) * 1e40\n",
    "y_train = y_scaler.fit_transform(y_train_unscaled)\n",
    "X_train_unscaled = train_df.drop(columns=['CCS', 'Sequence', 'NumConformers'])\n",
    "X_train = pd.DataFrame(X_scaler.fit_transform(X_train_unscaled), columns=X_train_unscaled.columns)"
   ],
   "id": "c0f805c80a0a1d21",
   "outputs": [],
   "execution_count": 83
  },
  {
   "metadata": {
    "ExecuteTime": {
     "end_time": "2024-10-27T10:01:53.234027Z",
     "start_time": "2024-10-27T10:01:53.222160Z"
    }
   },
   "cell_type": "code",
   "source": [
    "\n",
    "# scale test \n",
    "y_test_unscaled = test_df['CCS'].values.reshape(-1,1) * 1e40\n",
    "y_test = y_scaler.transform(y_test_unscaled)\n",
    "X_test_unscaled = test_df.drop(columns=['CCS', 'Sequence', 'NumConformers'])\n",
    "X_test = pd.DataFrame(X_scaler.transform(X_test_unscaled), columns=X_test_unscaled.columns)"
   ],
   "id": "c254c5dbe3ae4090",
   "outputs": [],
   "execution_count": 86
  },
  {
   "metadata": {
    "ExecuteTime": {
     "end_time": "2024-10-27T10:01:57.356386Z",
     "start_time": "2024-10-27T10:01:55.794860Z"
    }
   },
   "cell_type": "code",
   "source": [
    "\n",
    "import matplotlib.pyplot as plt\n",
    "plt.hist(y_train, label=\"Training data\", bins=300)\n",
    "plt.hist(y_test, label= \"Test data\", bins=300)\n",
    "plt.title(\"Distribution of the splitted dataset\")\n",
    "plt.ylabel(\"Amount\")\n",
    "plt.xlabel(\"Normalized CCS\")\n",
    "plt.legend()\n",
    "plt.show()"
   ],
   "id": "31fae176aa2eeeb1",
   "outputs": [
    {
     "data": {
      "text/plain": [
       "<Figure size 640x480 with 1 Axes>"
      ],
      "image/png": "[encoded data removed]"
     },
     "metadata": {},
     "output_type": "display_data"
    }
   ],
   "execution_count": 87
  },
  {
   "metadata": {
    "ExecuteTime": {
     "end_time": "2024-10-27T10:02:10.953364Z",
     "start_time": "2024-10-27T10:02:09.059693Z"
    }
   },
   "cell_type": "code",
   "source": [
    "\n",
    "plt.hist(X_train[\"Mass\"], label=\"Training data\", bins=300)\n",
    "plt.hist(X_test[\"Mass\"], label= \"Test data\", bins=300)\n",
    "plt.title(\"Distribution of the splitted dataset\")\n",
    "plt.ylabel(\"Amount\")\n",
    "plt.xlabel(\"Normalized CCS\")\n",
    "plt.legend()\n",
    "plt.show()\n"
   ],
   "id": "1811d5a42fed866c",
   "outputs": [
    {
     "data": {
      "text/plain": [
       "<Figure size 640x480 with 1 Axes>"
      ],
      "image/png": "[encoded data removed]"
     },
     "metadata": {},
     "output_type": "display_data"
    }
   ],
   "execution_count": 88
  },
  {
   "metadata": {
    "ExecuteTime": {
     "end_time": "2024-10-27T10:09:06.161342Z",
     "start_time": "2024-10-27T10:09:06.139570Z"
    }
   },
   "cell_type": "code",
   "source": "X_train.columns",
   "id": "8df4068534602e6d",
   "outputs": [
    {
     "data": {
      "text/plain": [
       "Index(['Charge', 'Mass', 'Length', 'NumRotatableBonds', 'NumAtoms',\n",
       "       'FractionSP3'],\n",
       "      dtype='object')"
      ]
     },
     "execution_count": 94,
     "metadata": {},
     "output_type": "execute_result"
    }
   ],
   "execution_count": 94
  },
  {
   "metadata": {
    "ExecuteTime": {
     "end_time": "2024-10-27T10:23:30.384556Z",
     "start_time": "2024-10-27T10:23:25.277674Z"
    }
   },
   "cell_type": "code",
   "source": [
    "# train first model\n",
    "from sklearn.ensemble import RandomForestRegressor\n",
    "from sklearn.model_selection import cross_val_score\n",
    "\n",
    "# ['Charge', 'Mass', 'Length', 'NumRotatableBonds', 'NumAtoms', 'FractionSP3']\n",
    "\n",
    "cur_features = ['Charge', 'Mass', 'Length', 'NumRotatableBonds', 'NumAtoms', 'FractionSP3']\n",
    "\n",
    "\n",
    "model = RandomForestRegressor(n_estimators=10, random_state=42)\n",
    "model.fit(X_train[cur_features], y_train.ravel())\n",
    "\n",
    "# output results from cross-validation\n",
    "# scores = cross_val_score(model, X, y.ravel(), cv=5, scoring='r2')\n",
    "# print(\"Cross-validation scores for each fold:\", scores)\n",
    "# print(\"Mean cross-validation score:\", scores.mean())\n",
    "\n",
    "# evaluate first model\n",
    "from sklearn.metrics import mean_squared_error, r2_score, mean_absolute_error\n",
    "y_pred = model.predict(X_test[cur_features])\n",
    "mse = mean_squared_error(y_test, y_pred)\n",
    "r2 = r2_score(y_test, y_pred)\n",
    "mae = mean_absolute_error(y_test, y_pred)\n",
    "\n",
    "\n",
    "print(f\"Mean Squared Error: {mse}\")\n",
    "print(f\"Mean Absolute Error: {mae}\")\n",
    "print(f\"R² Score: {r2}\")"
   ],
   "id": "18e7f93455bd52b7",
   "outputs": [
    {
     "name": "stdout",
     "output_type": "stream",
     "text": [
      "Mean Squared Error: 0.00040582496803395166\n",
      "Mean Absolute Error: 0.011666453054849573\n",
      "R² Score: 0.9893734536962259\n"
     ]
    }
   ],
   "execution_count": 107
  },
  {
   "metadata": {
    "ExecuteTime": {
     "end_time": "2024-10-27T10:24:24.818261Z",
     "start_time": "2024-10-27T10:24:24.579403Z"
    }
   },
   "cell_type": "code",
   "source": [
    "# Extract feature importances\n",
    "importances = model.feature_importances_\n",
    "feature_names = ['Charge', 'Mass', 'Length', 'NumRotatableBonds', 'NumAtoms', 'FractionSP3']\n",
    "\n",
    "# Sort the features by importance\n",
    "feature_importances = pd.DataFrame({'feature': feature_names, 'importance': importances})\n",
    "feature_importances = feature_importances.sort_values(by='importance', ascending=False)\n",
    "\n",
    "# Plot feature importances\n",
    "plt.figure(figsize=(10, 6))\n",
    "plt.barh(feature_importances['feature'], feature_importances['importance'], color='skyblue')\n",
    "plt.xlabel('Feature Importance')\n",
    "plt.title('Feature Importance from Random Forest')\n",
    "plt.gca().invert_yaxis()  # Reverse order to have the most important at the top\n",
    "plt.show()\n",
    "\n",
    "feature_importances"
   ],
   "id": "cb23dd2dbaec651e",
   "outputs": [
    {
     "data": {
      "text/plain": [
       "<Figure size 1000x600 with 1 Axes>"
      ],
      "image/png": "[encoded data removed]"
     },
     "metadata": {},
     "output_type": "display_data"
    },
    {
     "data": {
      "text/plain": [
       "             feature  importance\n",
       "0             Charge    0.905669\n",
       "1               Mass    0.082958\n",
       "4           NumAtoms    0.005987\n",
       "5        FractionSP3    0.002822\n",
       "3  NumRotatableBonds    0.001603\n",
       "2             Length    0.000961"
      ],
      "text/html": [
       "<div>\n",
       "<style scoped>\n",
       "    .dataframe tbody tr th:only-of-type {\n",
       "        vertical-align: middle;\n",
       "    }\n",
       "\n",
       "    .dataframe tbody tr th {\n",
       "        vertical-align: top;\n",
       "    }\n",
       "\n",
       "    .dataframe thead th {\n",
       "        text-align: right;\n",
       "    }\n",
       "</style>\n",
       "<table border=\"1\" class=\"dataframe\">\n",
       "  <thead>\n",
       "    <tr style=\"text-align: right;\">\n",
       "      <th></th>\n",
       "      <th>feature</th>\n",
       "      <th>importance</th>\n",
       "    </tr>\n",
       "  </thead>\n",
       "  <tbody>\n",
       "    <tr>\n",
       "      <th>0</th>\n",
       "      <td>Charge</td>\n",
       "      <td>0.905669</td>\n",
       "    </tr>\n",
       "    <tr>\n",
       "      <th>1</th>\n",
       "      <td>Mass</td>\n",
       "      <td>0.082958</td>\n",
       "    </tr>\n",
       "    <tr>\n",
       "      <th>4</th>\n",
       "      <td>NumAtoms</td>\n",
       "      <td>0.005987</td>\n",
       "    </tr>\n",
       "    <tr>\n",
       "      <th>5</th>\n",
       "      <td>FractionSP3</td>\n",
       "      <td>0.002822</td>\n",
       "    </tr>\n",
       "    <tr>\n",
       "      <th>3</th>\n",
       "      <td>NumRotatableBonds</td>\n",
       "      <td>0.001603</td>\n",
       "    </tr>\n",
       "    <tr>\n",
       "      <th>2</th>\n",
       "      <td>Length</td>\n",
       "      <td>0.000961</td>\n",
       "    </tr>\n",
       "  </tbody>\n",
       "</table>\n",
       "</div>"
      ]
     },
     "execution_count": 109,
     "metadata": {},
     "output_type": "execute_result"
    }
   ],
   "execution_count": 109
  },
  {
   "metadata": {},
   "cell_type": "code",
   "source": [
    "# hyperparameter tuning\n",
    "from sklearn.model_selection import RandomizedSearchCV\n",
    "\n",
    "param_dist = {\n",
    "    'n_estimators': list(range(1,25)),\n",
    "    'max_depth': list(range(1,30)),\n",
    "    'min_samples_split': list(range(1,10)),\n",
    "    'max_features': list(range(1,10)),\n",
    "    'min_samples_leaf': list(range(1,15))\n",
    "}\n",
    "\n",
    "\n",
    "random_search = RandomizedSearchCV(estimator=model, param_distributions=param_dist, n_iter=10, cv=5, random_state=42)\n",
    "random_search.fit(X, y.ravel())\n",
    "\n",
    "print(\"Beste Parameter:\", random_search.best_params_)\n"
   ],
   "id": "abcb101336823b51",
   "outputs": [],
   "execution_count": null
  },
  {
   "metadata": {},
   "cell_type": "code",
   "source": [
    "# evaluate optimized model\n",
    "\n",
    "# Output results from cross-validation\n",
    "best_model = random_search.best_estimator_\n",
    "scores = cross_val_score(best_model, X, y.ravel(), cv=5, scoring='r2')\n",
    "print(\"Cross-validation scores for each fold:\", scores)\n",
    "print(\"Mean cross-validation score:\", scores.mean())\n",
    "\n",
    "# Output results from testing\n",
    "y_pred = best_model.predict(X_test)\n",
    "mse = mean_squared_error(y_test, y_pred)\n",
    "r2 = r2_score(y_test, y_pred)\n",
    "mae = mean_absolute_error(y_test, y_pred)\n",
    "\n",
    "print(f\"Mean Squared Error: {mse}\")\n",
    "print(f\"Mean Absolute Error: {mae}\")\n",
    "print(f\"R² Score: {r2}\")"
   ],
   "id": "a75379ec24abe78c",
   "outputs": [],
   "execution_count": null
  },
  {
   "metadata": {},
   "cell_type": "code",
   "source": [
    "from plotnine import ggplot, aes, geom_point, labs, scale_color_brewer, scale_color_distiller, scale_fill_gradient\n",
    "\n",
    "df= pd.DataFrame()\n",
    "df['Charge'] = X_test['Charge']\n",
    "df['CCS_pred'] = y_pred\n",
    "df['CCS_actual'] = y_test\n",
    "(\n",
    "    ggplot(df, aes(x = \"CCS_pred\", y = \"CCS_actual\", color=\"Charge\"))\n",
    "    +  labs(y = \"Actual CCS\", x = \"Predicted CCS\", title=\"Actual vs. Predicted CCS\")\n",
    "\n",
    "    + geom_point() \n",
    "    \n",
    "    # + scale_color_distiller(palette = \"Blues\")\n",
    "\n",
    ")\n"
   ],
   "id": "3c332b9cf3a44c2",
   "outputs": [],
   "execution_count": null
  },
  {
   "metadata": {},
   "cell_type": "code",
   "source": [
    "from sklearn.model_selection import LearningCurveDisplay\n",
    "\n",
    "LearningCurveDisplay.from_estimator(\n",
    "   estimator=best_model, X=X_train, y=y_train.ravel(), train_sizes=[10,100,1000,10000,50000], cv=5, scoring='r2', verbose=2, random_state=42)"
   ],
   "id": "fbdbe70358d302fb",
   "outputs": [],
   "execution_count": null
  },
  {
   "metadata": {},
   "cell_type": "code",
   "source": [
    "from sklearn.model_selection import ValidationCurveDisplay\n",
    "\n",
    "#'neg_mean_squared_error'\n",
    "\n",
    "ValidationCurveDisplay.from_estimator(\n",
    "   best_model, X, y.ravel(), param_name=\"n_estimators\", param_range=list(range(1,25)), scoring='r2', verbose=2)"
   ],
   "id": "d9970015e8acebe1",
   "outputs": [],
   "execution_count": null
  },
  {
   "metadata": {},
   "cell_type": "code",
   "source": "",
   "id": "30763e42a58e19ce",
   "outputs": [],
   "execution_count": null
  },
  {
   "metadata": {},
   "cell_type": "code",
   "source": "",
   "id": "6cd1a00b587694c8",
   "outputs": [],
   "execution_count": null
  },
  {
   "metadata": {},
   "cell_type": "code",
   "source": [
    "\n",
    "# # plotting\n",
    "# from plotnine import ggplot, aes, geom_point, coord_equal\n",
    "# \n",
    "# # Plot\n",
    "# df = pd.DataFrame({\n",
    "#     'Predicted': y_pred.ravel(),\n",
    "#     'Actual': y_test.ravel()\n",
    "# })\n",
    "# \n",
    "# (\n",
    "#     ggplot(df, aes(\"Predicted\", \"Actual\"))\n",
    "#     + geom_point()\n",
    "#    \n",
    "# )\n"
   ],
   "id": "ea783ca3c539b60c",
   "outputs": [],
   "execution_count": null
  },
  {
   "metadata": {},
   "cell_type": "code",
   "source": "# max(max(df['CCS_pred']), max(df['CCS_actual']))",
   "id": "474bc190cffcf755",
   "outputs": [],
   "execution_count": null
  },
  {
   "metadata": {},
   "cell_type": "code",
   "source": [
    "# from plotnine import scale_x_continuous, scale_y_continuous\n",
    "# \n",
    "# for charge in range(1,4):\n",
    "#     df_temp = df[df['Charge'] == charge]\n",
    "#     x_limit_max = max(max(df_temp['CCS_pred']), max(df_temp['CCS_actual']))\n",
    "#     x_limit_min = min(min(df_temp['CCS_pred']), min(df_temp['CCS_actual']))\n",
    "#    \n",
    "#     plot = (\n",
    "#     ggplot(df_temp, aes(x = \"CCS_pred\", y = \"CCS_actual\"))\n",
    "#     + geom_point()\n",
    "#     + scale_x_continuous(limits=(x_limit_min,x_limit_max))\n",
    "#     + scale_y_continuous(limits=(x_limit_min,x_limit_max))\n",
    "# \n",
    "#     )\n",
    "#     \n",
    "#     plot.show()\n",
    "    "
   ],
   "id": "c8ed050d1a83ab19",
   "outputs": [],
   "execution_count": null
  },
  {
   "metadata": {},
   "cell_type": "code",
   "source": [
    "# from sklearn.preprocessing import MinMaxScaler\n",
    "# from sklearn.preprocessing import QuantileTransformer\n",
    "# from sklearn.preprocessing import MaxAbsScaler\n",
    "# \n",
    "# scaler = MaxAbsScaler()\n",
    "# y = data['CCS'].values.reshape(-1,1) *1e40\n",
    "# y_scaled = scaler.fit_transform(y)\n",
    "\n",
    "# import matplotlib.pyplot as plt\n",
    "# \n",
    "# plt.hist(y)\n",
    "# plt.title('Unscaled')\n",
    "# plt.show()\n",
    "# \n",
    "# plt.hist(y_scaled)\n",
    "# plt.title(\"Scaled\")\n",
    "# plt.show()\n",
    "# min_y = min(y)\n",
    "# max_y = max(y)\n",
    "# \n",
    "# print(min_y, max_y)\n",
    "# \n",
    "# y_scaled = (y-min_y) / ( max_y-min_y )\n",
    "# \n",
    "# plt.hist(y_scaled, bins=500)\n",
    "# plt.title(\"Scaled\")\n",
    "# plt.show()\n",
    "#X = data.drop(columns=['CCS', 'Sequence', 'NumConformers'])\n",
    "\n",
    "# X = pd.DataFrame(data[['Mass']])\n",
    "# charge = 4\n",
    "# X = data[data['Charge'] == charge].drop(columns=['Charge', 'CCS', 'Sequence', 'NumConformers'])\n",
    "# y = y[data['Charge'] == charge]\n",
    "# X\n",
    "\n",
    "\n",
    "\n",
    "# from sklearn.model_selection import GridSearchCV\n",
    "# \n",
    "# # Define the parameter grid\n",
    "# param_grid = {\n",
    "#     'n_estimators': [2],  # Number of trees in the forest\n",
    "#     'max_depth': [None, 10, 20, 30],    # Maximum depth of the tree\n",
    "#     'min_samples_split': [2, 5, 10],    # Minimum samples required to split an internal node\n",
    "#     'min_samples_leaf': [1, 2, 4]   ,     # Minimum samples required to be at a leaf node\n",
    "#     'max_features': [2,3,5]\n",
    "# }\n",
    "# \n",
    "# # Initialize GridSearchCV\n",
    "# grid_search = GridSearchCV(estimator=model, param_grid=param_grid, cv=5, scoring='r2', verbose=2, n_jobs=-1)\n",
    "# \n",
    "# # Fit GridSearchCV\n",
    "# grid_search.fit(X, y.ravel())\n",
    "# \n",
    "# # Output the best parameters and the best score\n",
    "# print(\"Best Parameters:\", grid_search.best_params_)\n",
    "# print(\"Best Cross-Validation Score:\", grid_search.best_score_)\n",
    "# \n",
    "# # Perform cross-validation with the best estimator\n",
    "# best_model = grid_search.best_estimator_\n",
    "# scores = cross_val_score(best_model, X, y.ravel(), cv=5, scoring='r2')\n",
    "# \n",
    "# # Output results from cross-validation\n",
    "# print(\"Cross-validation scores for each fold:\", scores)\n",
    "# print(\"Mean cross-validation score:\", scores.mean())\n",
    "# \n",
    "# plt.show()\n",
    "\n",
    "\n",
    "# from sklearn.ensemble import RandomForestRegressor\n",
    "# from sklearn.model_selection import cross_val_score\n",
    "# \n",
    "# model = RandomForestRegressor(n_estimators=10, random_state=42)\n",
    "# \n",
    "# # Perform 5-fold cross-validation\n",
    "# scores = cross_val_score(model, X, y.ravel(), cv=5, scoring='r2')\n",
    "# \n",
    "# # Output results\n",
    "# print(\"Cross-validation scores for each fold:\", scores)\n",
    "# print(\"Mean cross-validation score:\", scores.mean())"
   ],
   "id": "54f949fb33c812d1",
   "outputs": [],
   "execution_count": null
  }
 ],
 "metadata": {
  "kernelspec": {
   "display_name": "Python 3",
   "language": "python",
   "name": "python3"
  },
  "language_info": {
   "codemirror_mode": {
    "name": "ipython",
    "version": 2
   },
   "file_extension": ".py",
   "mimetype": "text/x-python",
   "name": "python",
   "nbconvert_exporter": "python",
   "pygments_lexer": "ipython2",
   "version": "2.7.6"
  }
 },
 "nbformat": 4,
 "nbformat_minor": 5
}
