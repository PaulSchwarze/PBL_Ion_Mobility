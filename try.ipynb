{
 "cells": [
  {
   "metadata": {
    "ExecuteTime": {
     "end_time": "2024-10-03T14:17:56.744652Z",
     "start_time": "2024-10-03T14:17:52.915394Z"
    }
   },
   "cell_type": "code",
   "source": [
    "import numpy as np\n",
    "import pandas as pd\n",
    "from sklearn.preprocessing import MinMaxScaler, LabelEncoder\n",
    "from sklearn.model_selection import train_test_split\n",
    "from sklearn.metrics import r2_score\n",
    "from keras.models import Sequential\n",
    "from keras.layers import LSTM, Dense, Dropout\n",
    "from keras.callbacks import EarlyStopping\n",
    "from keras.optimizers import Adam\n",
    "from sklearn.metrics import mean_squared_error\n",
    "\n",
    "# Load the data\n",
    "data = pd.read_csv('final_data.csv')\n",
    "data = data.dropna()\n",
    "data = data.drop_duplicates()\n",
    "data = data.reset_index(drop=True)\n",
    "\n",
    "# Preprocess the data like for randomForest_simplified.ipynb\n",
    "# Encode the sequence\n",
    "# Define the 20 standard amino acids and include non-standard ones\n",
    "amino_acids = 'ACDEFGHIKLMNPQRSTVWYU'\n",
    "aa_to_int = {aa: i for i, aa in enumerate(amino_acids)}\n",
    "\n",
    "\n",
    "def one_hot_encode(seq, max_length):\n",
    "    # Pad the sequence to the maximum length with 'X' (unknown amino acid)\n",
    "    padded_seq = seq.ljust(max_length, 'X')\n",
    "    int_encoded = [aa_to_int.get(aa, len(amino_acids)) for aa in\n",
    "                   padded_seq]  # Use a default index for unknown amino acids\n",
    "    one_hot_encoded = np.zeros((max_length, len(amino_acids) + 1))  # +1 for the unknown amino acid\n",
    "    for i, value in enumerate(int_encoded):\n",
    "        one_hot_encoded[i, value] = 1\n",
    "    return one_hot_encoded\n",
    "\n",
    "\n",
    "# Determine the maximum sequence length\n",
    "max_seq_length = max(data['Sequence'].apply(len))\n",
    "\n",
    "# Encode the sequences\n",
    "one_hot_encoded_sequences = np.array([one_hot_encode(seq, max_seq_length) for seq in data['Sequence']])\n",
    "\n",
    "# Initialize the label encoder for charge states\n",
    "label_encoder = LabelEncoder()\n",
    "encoded_charge_states = label_encoder.fit_transform(data['Charge'].tolist())\n",
    "\n",
    "# Reshape charge states to 3D, so that they match the dimensions of the one-hot-encoded sequences\n",
    "# We repeat the charge value along the sequence length (max_seq_length) so that each sequence position has the charge value\n",
    "encoded_charge_states_3d = np.repeat(encoded_charge_states[:, np.newaxis], max_seq_length, axis=1)\n",
    "\n",
    "# Expand the charge states along the feature axis (the last axis) to match the shape of the one-hot-encoded sequences\n",
    "encoded_charge_states_3d = np.expand_dims(encoded_charge_states_3d, axis=-1)\n",
    "\n",
    "# Combine the one-hot encoded sequences and charge states into a single input array\n",
    "# Concatenate along the feature axis (the last dimension)\n",
    "X_combined = np.concatenate([one_hot_encoded_sequences, encoded_charge_states_3d], axis=2)\n",
    "\n",
    "# The target variable (y) is the CCS value and will be normalized relative to the min and maximum CCS value\n",
    "ccs_values = data['CCS'].values\n",
    "normalized_ccs_values = (ccs_values - ccs_values.min()) / (ccs_values.max() - ccs_values.min())\n",
    "y = normalized_ccs_values\n",
    "\n"
   ],
   "id": "5c58c5158d43079d",
   "outputs": [],
   "execution_count": 9
  },
  {
   "metadata": {
    "ExecuteTime": {
     "end_time": "2024-10-03T14:21:16.479848Z",
     "start_time": "2024-10-03T14:17:56.746612Z"
    }
   },
   "cell_type": "code",
   "source": [
    "# Split the data\n",
    "X_train, X_test, y_train, y_test = train_test_split(X_combined, y, test_size=0.2, random_state=42)\n",
    "\n",
    "# Build the model\n",
    "model = Sequential()\n",
    "model.add(LSTM(50, input_shape=(X_train.shape[1], X_train.shape[2])))  # Correct input shape: (timesteps, features)\n",
    "model.add(Dropout(0.2))\n",
    "model.add(Dense(1))  # Single output for regression\n",
    "model.compile(optimizer=Adam(0.001), loss='mean_squared_error')\n",
    "\n",
    "# Train the model\n",
    "early_stopping = EarlyStopping(monitor='val_loss', patience=10)\n",
    "history = model.fit(X_train, y_train, epochs=5, batch_size=32, validation_data=(X_test, y_test),\n",
    "                    callbacks=[early_stopping], shuffle=False)\n",
    "\n",
    "# Evaluate the model\n",
    "y_pred = model.predict(X_test)\n",
    "mse = mean_squared_error(y_test, y_pred)\n",
    "print(f\"Mean Squared Error: {mse}\")\n",
    "\n",
    "\n",
    "r2 = r2_score(y_test, y_pred)\n",
    "print(f\"R^2: {r2}\")\n"
   ],
   "id": "9a6310fe5236f899",
   "outputs": [
    {
     "name": "stderr",
     "output_type": "stream",
     "text": [
      "/Users/fabianschweisthal/miniconda3/lib/python3.12/site-packages/keras/src/layers/rnn/rnn.py:204: UserWarning: Do not pass an `input_shape`/`input_dim` argument to a layer. When using Sequential models, prefer using an `Input(shape)` object as the first layer in the model instead.\n",
      "  super().__init__(**kwargs)\n"
     ]
    },
    {
     "name": "stdout",
     "output_type": "stream",
     "text": [
      "Epoch 1/5\n",
      "\u001B[1m3646/3646\u001B[0m \u001B[32m━━━━━━━━━━━━━━━━━━━━\u001B[0m\u001B[37m\u001B[0m \u001B[1m36s\u001B[0m 10ms/step - loss: 0.0030 - val_loss: 4.1021e-04\n",
      "Epoch 2/5\n",
      "\u001B[1m3646/3646\u001B[0m \u001B[32m━━━━━━━━━━━━━━━━━━━━\u001B[0m\u001B[37m\u001B[0m \u001B[1m40s\u001B[0m 11ms/step - loss: 6.8334e-04 - val_loss: 3.9435e-04\n",
      "Epoch 3/5\n",
      "\u001B[1m3646/3646\u001B[0m \u001B[32m━━━━━━━━━━━━━━━━━━━━\u001B[0m\u001B[37m\u001B[0m \u001B[1m39s\u001B[0m 11ms/step - loss: 6.2100e-04 - val_loss: 6.4927e-04\n",
      "Epoch 4/5\n",
      "\u001B[1m3646/3646\u001B[0m \u001B[32m━━━━━━━━━━━━━━━━━━━━\u001B[0m\u001B[37m\u001B[0m \u001B[1m40s\u001B[0m 11ms/step - loss: 6.0927e-04 - val_loss: 3.3891e-04\n",
      "Epoch 5/5\n",
      "\u001B[1m3646/3646\u001B[0m \u001B[32m━━━━━━━━━━━━━━━━━━━━\u001B[0m\u001B[37m\u001B[0m \u001B[1m40s\u001B[0m 11ms/step - loss: 5.9641e-04 - val_loss: 3.3731e-04\n",
      "\u001B[1m912/912\u001B[0m \u001B[32m━━━━━━━━━━━━━━━━━━━━\u001B[0m\u001B[37m\u001B[0m \u001B[1m3s\u001B[0m 3ms/step\n",
      "Mean Squared Error: 0.00033730725123760794\n",
      "R^2: 0.9910437030458373\n"
     ]
    }
   ],
   "execution_count": 10
  },
  {
   "metadata": {
    "ExecuteTime": {
     "end_time": "2024-10-03T14:21:41.083822Z",
     "start_time": "2024-10-03T14:21:40.529903Z"
    }
   },
   "cell_type": "code",
   "source": [
    "# Plot the training history\n",
    "import matplotlib.pyplot as plt\n",
    "\n",
    "plt.plot(history.history['loss'], label='train')\n",
    "plt.plot(history.history['val_loss'], label='test')\n",
    "plt.legend()\n",
    "plt.show()"
   ],
   "id": "33b125dd2b0adff3",
   "outputs": [
    {
     "data": {
      "text/plain": [
       "<Figure size 640x480 with 1 Axes>"
      ],
      "image/png": "[encoded data removed]"
     },
     "metadata": {},
     "output_type": "display_data"
    }
   ],
   "execution_count": 12
  },
  {
   "metadata": {},
   "cell_type": "code",
   "outputs": [],
   "execution_count": null,
   "source": "",
   "id": "24fae1fdebb606e"
  }
 ],
 "metadata": {
  "kernelspec": {
   "display_name": "Python 3",
   "language": "python",
   "name": "python3"
  },
  "language_info": {
   "codemirror_mode": {
    "name": "ipython",
    "version": 2
   },
   "file_extension": ".py",
   "mimetype": "text/x-python",
   "name": "python",
   "nbconvert_exporter": "python",
   "pygments_lexer": "ipython2",
   "version": "2.7.6"
  }
 },
 "nbformat": 4,
 "nbformat_minor": 5
}
