{
 "cells": [
  {
   "metadata": {
    "ExecuteTime": {
     "end_time": "2024-10-03T09:52:20.562833Z",
     "start_time": "2024-10-03T09:52:20.560451Z"
    }
   },
   "cell_type": "code",
   "source": [
    "#generate a new data set from mann_bruker_simplified.text with the following columns:\n",
    "# sequence, charge, CCS\n",
    "import pandas as pd"
   ],
   "id": "c7adb14dcfcfb785",
   "outputs": [],
   "execution_count": 24
  },
  {
   "metadata": {
    "ExecuteTime": {
     "end_time": "2024-10-03T09:52:21.059591Z",
     "start_time": "2024-10-03T09:52:20.564942Z"
    }
   },
   "cell_type": "code",
   "source": [
    "#read the data\n",
    "data = pd.read_csv('mann_bruker_simplified.txt', sep=',')\n",
    "data.head()"
   ],
   "id": "c11c03ebb65851a5",
   "outputs": [
    {
     "data": {
      "text/plain": [
       "                                            Sequence Modifications  \\\n",
       "0  AAAAAAAAAAAATGTEAGPGTAGGSENGSEVAAQPAGLSGPAEVGP...    Unmodified   \n",
       "1                                         AAAAAAAAAK    Unmodified   \n",
       "2                                         AAAAAAAAAK    Unmodified   \n",
       "3                                         AAAAAAAAAK    Unmodified   \n",
       "4                                         AAAAAAAAAK    Unmodified   \n",
       "\n",
       "                                   Modified sequence  Charge  \\\n",
       "0  _AAAAAAAAAAAATGTEAGPGTAGGSENGSEVAAQPAGLSGPAEVG...       4   \n",
       "1                                       _AAAAAAAAAK_       1   \n",
       "2                                       _AAAAAAAAAK_       1   \n",
       "3                                       _AAAAAAAAAK_       1   \n",
       "4                                       _AAAAAAAAAK_       1   \n",
       "\n",
       "                                            Raw file    Experiment  \\\n",
       "0  20180819_TIMS2_12-2_AnBr_SA_200ng_HeLa_50cm_12...  1_A1_01_2767   \n",
       "1  20180819_TIMS2_12-2_AnBr_SA_200ng_HeLa_50cm_12...  3_A1_01_2769   \n",
       "2  20180819_TIMS2_12-2_AnBr_SA_200ng_HeLa_50cm_12...  3_A1_01_2769   \n",
       "3  20180819_TIMS2_12-2_AnBr_SA_200ng_HeLa_50cm_12...  4_A1_01_2770   \n",
       "4  20180819_TIMS2_12-2_AnBr_SA_200ng_HeLa_50cm_12...  4_A1_01_2770   \n",
       "\n",
       "   Ion mobility index  Ion mobility length           CCS    CCS length  \\\n",
       "0                 303                   58  2.654046e-35  1.283781e-36   \n",
       "1                 156                   31  5.996674e-36  1.334331e-37   \n",
       "2                 147                   31  5.956918e-36  1.316610e-37   \n",
       "3                 156                   28  5.996673e-36  1.203558e-37   \n",
       "4                 150                   31  5.970114e-36  1.322478e-37   \n",
       "\n",
       "    Score  Intensity  \n",
       "0  30.753    31459.0  \n",
       "1  85.813    26973.0  \n",
       "2  85.813    36267.0  \n",
       "3  85.813    27083.0  \n",
       "4  78.178    33597.0  "
      ],
      "text/html": [
       "<div>\n",
       "<style scoped>\n",
       "    .dataframe tbody tr th:only-of-type {\n",
       "        vertical-align: middle;\n",
       "    }\n",
       "\n",
       "    .dataframe tbody tr th {\n",
       "        vertical-align: top;\n",
       "    }\n",
       "\n",
       "    .dataframe thead th {\n",
       "        text-align: right;\n",
       "    }\n",
       "</style>\n",
       "<table border=\"1\" class=\"dataframe\">\n",
       "  <thead>\n",
       "    <tr style=\"text-align: right;\">\n",
       "      <th></th>\n",
       "      <th>Sequence</th>\n",
       "      <th>Modifications</th>\n",
       "      <th>Modified sequence</th>\n",
       "      <th>Charge</th>\n",
       "      <th>Raw file</th>\n",
       "      <th>Experiment</th>\n",
       "      <th>Ion mobility index</th>\n",
       "      <th>Ion mobility length</th>\n",
       "      <th>CCS</th>\n",
       "      <th>CCS length</th>\n",
       "      <th>Score</th>\n",
       "      <th>Intensity</th>\n",
       "    </tr>\n",
       "  </thead>\n",
       "  <tbody>\n",
       "    <tr>\n",
       "      <th>0</th>\n",
       "      <td>AAAAAAAAAAAATGTEAGPGTAGGSENGSEVAAQPAGLSGPAEVGP...</td>\n",
       "      <td>Unmodified</td>\n",
       "      <td>_AAAAAAAAAAAATGTEAGPGTAGGSENGSEVAAQPAGLSGPAEVG...</td>\n",
       "      <td>4</td>\n",
       "      <td>20180819_TIMS2_12-2_AnBr_SA_200ng_HeLa_50cm_12...</td>\n",
       "      <td>1_A1_01_2767</td>\n",
       "      <td>303</td>\n",
       "      <td>58</td>\n",
       "      <td>2.654046e-35</td>\n",
       "      <td>1.283781e-36</td>\n",
       "      <td>30.753</td>\n",
       "      <td>31459.0</td>\n",
       "    </tr>\n",
       "    <tr>\n",
       "      <th>1</th>\n",
       "      <td>AAAAAAAAAK</td>\n",
       "      <td>Unmodified</td>\n",
       "      <td>_AAAAAAAAAK_</td>\n",
       "      <td>1</td>\n",
       "      <td>20180819_TIMS2_12-2_AnBr_SA_200ng_HeLa_50cm_12...</td>\n",
       "      <td>3_A1_01_2769</td>\n",
       "      <td>156</td>\n",
       "      <td>31</td>\n",
       "      <td>5.996674e-36</td>\n",
       "      <td>1.334331e-37</td>\n",
       "      <td>85.813</td>\n",
       "      <td>26973.0</td>\n",
       "    </tr>\n",
       "    <tr>\n",
       "      <th>2</th>\n",
       "      <td>AAAAAAAAAK</td>\n",
       "      <td>Unmodified</td>\n",
       "      <td>_AAAAAAAAAK_</td>\n",
       "      <td>1</td>\n",
       "      <td>20180819_TIMS2_12-2_AnBr_SA_200ng_HeLa_50cm_12...</td>\n",
       "      <td>3_A1_01_2769</td>\n",
       "      <td>147</td>\n",
       "      <td>31</td>\n",
       "      <td>5.956918e-36</td>\n",
       "      <td>1.316610e-37</td>\n",
       "      <td>85.813</td>\n",
       "      <td>36267.0</td>\n",
       "    </tr>\n",
       "    <tr>\n",
       "      <th>3</th>\n",
       "      <td>AAAAAAAAAK</td>\n",
       "      <td>Unmodified</td>\n",
       "      <td>_AAAAAAAAAK_</td>\n",
       "      <td>1</td>\n",
       "      <td>20180819_TIMS2_12-2_AnBr_SA_200ng_HeLa_50cm_12...</td>\n",
       "      <td>4_A1_01_2770</td>\n",
       "      <td>156</td>\n",
       "      <td>28</td>\n",
       "      <td>5.996673e-36</td>\n",
       "      <td>1.203558e-37</td>\n",
       "      <td>85.813</td>\n",
       "      <td>27083.0</td>\n",
       "    </tr>\n",
       "    <tr>\n",
       "      <th>4</th>\n",
       "      <td>AAAAAAAAAK</td>\n",
       "      <td>Unmodified</td>\n",
       "      <td>_AAAAAAAAAK_</td>\n",
       "      <td>1</td>\n",
       "      <td>20180819_TIMS2_12-2_AnBr_SA_200ng_HeLa_50cm_12...</td>\n",
       "      <td>4_A1_01_2770</td>\n",
       "      <td>150</td>\n",
       "      <td>31</td>\n",
       "      <td>5.970114e-36</td>\n",
       "      <td>1.322478e-37</td>\n",
       "      <td>78.178</td>\n",
       "      <td>33597.0</td>\n",
       "    </tr>\n",
       "  </tbody>\n",
       "</table>\n",
       "</div>"
      ]
     },
     "execution_count": 25,
     "metadata": {},
     "output_type": "execute_result"
    }
   ],
   "execution_count": 25
  },
  {
   "metadata": {
    "ExecuteTime": {
     "end_time": "2024-10-03T09:52:21.154948Z",
     "start_time": "2024-10-03T09:52:21.060869Z"
    }
   },
   "cell_type": "code",
   "source": [
    "#extract the sequence, charge and CCS columns\n",
    "data = data[['Sequence', 'Charge', 'CCS']]\n",
    "\n",
    "#handle duplicate values if sequence and charge are the same by keeping median value\n",
    "data = data.groupby(['Sequence', 'Charge']).median().reset_index(\n",
    "    drop=False\n",
    ")\n",
    "data.head()"
   ],
   "id": "61c7a8918df1be2d",
   "outputs": [
    {
     "data": {
      "text/plain": [
       "                                            Sequence  Charge           CCS\n",
       "0  AAAAAAAAAAAATGTEAGPGTAGGSENGSEVAAQPAGLSGPAEVGP...       4  2.654046e-35\n",
       "1                                         AAAAAAAAAK       1  5.990020e-36\n",
       "2                      AAAAAAAAAPAAAATAPTTAATTAATAAQ       2  1.208337e-35\n",
       "3                      AAAAAAAAAPAAAATAPTTAATTAATAAQ       3  2.199438e-35\n",
       "4                          AAAAAAAGDSDSWDADAFSVEDPVR       2  1.199783e-35"
      ],
      "text/html": [
       "<div>\n",
       "<style scoped>\n",
       "    .dataframe tbody tr th:only-of-type {\n",
       "        vertical-align: middle;\n",
       "    }\n",
       "\n",
       "    .dataframe tbody tr th {\n",
       "        vertical-align: top;\n",
       "    }\n",
       "\n",
       "    .dataframe thead th {\n",
       "        text-align: right;\n",
       "    }\n",
       "</style>\n",
       "<table border=\"1\" class=\"dataframe\">\n",
       "  <thead>\n",
       "    <tr style=\"text-align: right;\">\n",
       "      <th></th>\n",
       "      <th>Sequence</th>\n",
       "      <th>Charge</th>\n",
       "      <th>CCS</th>\n",
       "    </tr>\n",
       "  </thead>\n",
       "  <tbody>\n",
       "    <tr>\n",
       "      <th>0</th>\n",
       "      <td>AAAAAAAAAAAATGTEAGPGTAGGSENGSEVAAQPAGLSGPAEVGP...</td>\n",
       "      <td>4</td>\n",
       "      <td>2.654046e-35</td>\n",
       "    </tr>\n",
       "    <tr>\n",
       "      <th>1</th>\n",
       "      <td>AAAAAAAAAK</td>\n",
       "      <td>1</td>\n",
       "      <td>5.990020e-36</td>\n",
       "    </tr>\n",
       "    <tr>\n",
       "      <th>2</th>\n",
       "      <td>AAAAAAAAAPAAAATAPTTAATTAATAAQ</td>\n",
       "      <td>2</td>\n",
       "      <td>1.208337e-35</td>\n",
       "    </tr>\n",
       "    <tr>\n",
       "      <th>3</th>\n",
       "      <td>AAAAAAAAAPAAAATAPTTAATTAATAAQ</td>\n",
       "      <td>3</td>\n",
       "      <td>2.199438e-35</td>\n",
       "    </tr>\n",
       "    <tr>\n",
       "      <th>4</th>\n",
       "      <td>AAAAAAAGDSDSWDADAFSVEDPVR</td>\n",
       "      <td>2</td>\n",
       "      <td>1.199783e-35</td>\n",
       "    </tr>\n",
       "  </tbody>\n",
       "</table>\n",
       "</div>"
      ]
     },
     "execution_count": 26,
     "metadata": {},
     "output_type": "execute_result"
    }
   ],
   "execution_count": 26
  },
  {
   "metadata": {
    "ExecuteTime": {
     "end_time": "2024-10-03T09:52:21.386504Z",
     "start_time": "2024-10-03T09:52:21.156001Z"
    }
   },
   "cell_type": "code",
   "source": [
    "#save the data in different file called final_data.csv in this directory\n",
    "data.to_csv('final_data.csv', index=False)\n",
    "#show the path of the saved file data       \n",
    "print('Data saved in final_data.csv')\n"
   ],
   "id": "296e3fc0e9ac2adb",
   "outputs": [
    {
     "name": "stdout",
     "output_type": "stream",
     "text": [
      "Data saved in final_data.csv\n"
     ]
    }
   ],
   "execution_count": 27
  },
  {
   "metadata": {
    "ExecuteTime": {
     "end_time": "2024-10-03T09:52:21.389332Z",
     "start_time": "2024-10-03T09:52:21.387738Z"
    }
   },
   "cell_type": "code",
   "source": "",
   "id": "e4cd11e7a0522f6",
   "outputs": [],
   "execution_count": 27
  }
 ],
 "metadata": {
  "kernelspec": {
   "display_name": "Python 3",
   "language": "python",
   "name": "python3"
  },
  "language_info": {
   "codemirror_mode": {
    "name": "ipython",
    "version": 2
   },
   "file_extension": ".py",
   "mimetype": "text/x-python",
   "name": "python",
   "nbconvert_exporter": "python",
   "pygments_lexer": "ipython2",
   "version": "2.7.6"
  }
 },
 "nbformat": 4,
 "nbformat_minor": 5
}
