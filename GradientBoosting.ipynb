{
 "cells": [
  {
   "cell_type": "code",
   "id": "initial_id",
   "metadata": {
    "collapsed": true,
    "ExecuteTime": {
     "end_time": "2024-10-19T21:35:39.733516Z",
     "start_time": "2024-10-19T21:35:38.108515Z"
    }
   },
   "source": [
    "from sklearn.ensemble import GradientBoostingRegressor\n",
    "import xgboost as xgb\n",
    "from sklearn.model_selection import train_test_split\n",
    "from sklearn.metrics import accuracy_score\n",
    "from sklearn.metrics import mean_squared_error\n",
    "from sklearn.metrics import r2_score\n",
    "from sklearn.preprocessing import StandardScaler\n",
    "from sklearn.preprocessing import OneHotEncoder\n",
    "import matplotlib.pyplot as plt\n",
    "import numpy as np\n",
    "import pandas as pd"
   ],
   "outputs": [],
   "execution_count": 1
  },
  {
   "metadata": {
    "ExecuteTime": {
     "end_time": "2024-10-19T21:35:43.258597Z",
     "start_time": "2024-10-19T21:35:42.776605Z"
    }
   },
   "cell_type": "code",
   "source": [
    "data = pd.read_csv('C:/Users/samue/OneDrive/Desktop/Ion mobility/Data3.csv')\n",
    "data"
   ],
   "id": "53c84d6597867a47",
   "outputs": [
    {
     "data": {
      "text/plain": [
       "                                                 Sequence  Charge  \\\n",
       "0       AAAAAAAAAAAATGTEAGPGTAGGSENGSEVAAQPAGLSGPAEVGP...       4   \n",
       "1                                              AAAAAAAAAK       1   \n",
       "2                                              AAAAAAAAAK       1   \n",
       "3                                              AAAAAAAAAK       1   \n",
       "4                                              AAAAAAAAAK       1   \n",
       "...                                                   ...     ...   \n",
       "319123                                         YYYQGCASWK       2   \n",
       "319124                                  YYYVCQYCPAMKTYLNK       3   \n",
       "319125                                  YYYVCQYCPAMKTYLNK       3   \n",
       "319126                                      YYYVPADFVEYEK       2   \n",
       "319127                                      YYYVPADFVEYEK       2   \n",
       "\n",
       "               Mass  Length           CCS       CCS_Min       CCS_Max  \\\n",
       "0       4401.106890      52  2.654046e-35  2.654046e-35  2.654046e-35   \n",
       "1        785.439552      10  5.996675e-36  5.996675e-36  5.996675e-36   \n",
       "2        785.439552      10  5.996673e-36  5.996673e-36  5.996673e-36   \n",
       "3        785.439552      10  5.996674e-36  5.996674e-36  5.996674e-36   \n",
       "4        785.439552      10  5.996677e-36  5.996677e-36  5.996677e-36   \n",
       "...             ...     ...           ...           ...           ...   \n",
       "319123  1324.554660      10  1.742139e-35  1.742139e-35  1.742139e-35   \n",
       "319124  2264.010450      17  2.726609e-35  2.726609e-35  2.726609e-35   \n",
       "319125  2264.010450      17  2.726609e-35  2.726609e-35  2.726609e-35   \n",
       "319126  1684.766090      13  1.524399e-35  1.524399e-35  1.524399e-35   \n",
       "319127  1684.766090      13  1.524399e-35  1.524399e-35  1.524399e-35   \n",
       "\n",
       "        CCS_Std  Acetylation  Oxidation  Retention time    Experiment  \\\n",
       "0           0.0            0          0         3494.40  1_A1_01_2767   \n",
       "1           0.0            0          0          747.88  1_A1_01_2767   \n",
       "2           0.0            0          0          753.65  4_A1_01_2770   \n",
       "3           0.0            0          0          754.34  3_A1_01_2769   \n",
       "4           0.0            0          0          761.19  2_A1_01_2768   \n",
       "...         ...          ...        ...             ...           ...   \n",
       "319123      0.0            0          0         1994.70  1_A1_01_2767   \n",
       "319124      0.0            0          0         3047.60  3_A1_01_2769   \n",
       "319125      0.0            0          0         3053.50  4_A1_01_2770   \n",
       "319126      0.0            0          0         3863.30  1_A1_01_2767   \n",
       "319127      0.0            0          0         3876.60  4_A1_01_2770   \n",
       "\n",
       "        NumRotatableBonds  NumConformers  NumAtoms  FractionSP3  \n",
       "0                     134              0       309     0.668508  \n",
       "1                      23              0        55     0.696970  \n",
       "2                      23              0        55     0.696970  \n",
       "3                      23              0        55     0.696970  \n",
       "4                      23              0        55     0.696970  \n",
       "...                   ...            ...       ...          ...  \n",
       "319123                 36              0        90     0.383333  \n",
       "319124                 64              0       150     0.510000  \n",
       "319125                 64              0       150     0.510000  \n",
       "319126                 48              0       121     0.445783  \n",
       "319127                 48              0       121     0.445783  \n",
       "\n",
       "[319128 rows x 16 columns]"
      ],
      "text/html": [
       "<div>\n",
       "<style scoped>\n",
       "    .dataframe tbody tr th:only-of-type {\n",
       "        vertical-align: middle;\n",
       "    }\n",
       "\n",
       "    .dataframe tbody tr th {\n",
       "        vertical-align: top;\n",
       "    }\n",
       "\n",
       "    .dataframe thead th {\n",
       "        text-align: right;\n",
       "    }\n",
       "</style>\n",
       "<table border=\"1\" class=\"dataframe\">\n",
       "  <thead>\n",
       "    <tr style=\"text-align: right;\">\n",
       "      <th></th>\n",
       "      <th>Sequence</th>\n",
       "      <th>Charge</th>\n",
       "      <th>Mass</th>\n",
       "      <th>Length</th>\n",
       "      <th>CCS</th>\n",
       "      <th>CCS_Min</th>\n",
       "      <th>CCS_Max</th>\n",
       "      <th>CCS_Std</th>\n",
       "      <th>Acetylation</th>\n",
       "      <th>Oxidation</th>\n",
       "      <th>Retention time</th>\n",
       "      <th>Experiment</th>\n",
       "      <th>NumRotatableBonds</th>\n",
       "      <th>NumConformers</th>\n",
       "      <th>NumAtoms</th>\n",
       "      <th>FractionSP3</th>\n",
       "    </tr>\n",
       "  </thead>\n",
       "  <tbody>\n",
       "    <tr>\n",
       "      <th>0</th>\n",
       "      <td>AAAAAAAAAAAATGTEAGPGTAGGSENGSEVAAQPAGLSGPAEVGP...</td>\n",
       "      <td>4</td>\n",
       "      <td>4401.106890</td>\n",
       "      <td>52</td>\n",
       "      <td>2.654046e-35</td>\n",
       "      <td>2.654046e-35</td>\n",
       "      <td>2.654046e-35</td>\n",
       "      <td>0.0</td>\n",
       "      <td>0</td>\n",
       "      <td>0</td>\n",
       "      <td>3494.40</td>\n",
       "      <td>1_A1_01_2767</td>\n",
       "      <td>134</td>\n",
       "      <td>0</td>\n",
       "      <td>309</td>\n",
       "      <td>0.668508</td>\n",
       "    </tr>\n",
       "    <tr>\n",
       "      <th>1</th>\n",
       "      <td>AAAAAAAAAK</td>\n",
       "      <td>1</td>\n",
       "      <td>785.439552</td>\n",
       "      <td>10</td>\n",
       "      <td>5.996675e-36</td>\n",
       "      <td>5.996675e-36</td>\n",
       "      <td>5.996675e-36</td>\n",
       "      <td>0.0</td>\n",
       "      <td>0</td>\n",
       "      <td>0</td>\n",
       "      <td>747.88</td>\n",
       "      <td>1_A1_01_2767</td>\n",
       "      <td>23</td>\n",
       "      <td>0</td>\n",
       "      <td>55</td>\n",
       "      <td>0.696970</td>\n",
       "    </tr>\n",
       "    <tr>\n",
       "      <th>2</th>\n",
       "      <td>AAAAAAAAAK</td>\n",
       "      <td>1</td>\n",
       "      <td>785.439552</td>\n",
       "      <td>10</td>\n",
       "      <td>5.996673e-36</td>\n",
       "      <td>5.996673e-36</td>\n",
       "      <td>5.996673e-36</td>\n",
       "      <td>0.0</td>\n",
       "      <td>0</td>\n",
       "      <td>0</td>\n",
       "      <td>753.65</td>\n",
       "      <td>4_A1_01_2770</td>\n",
       "      <td>23</td>\n",
       "      <td>0</td>\n",
       "      <td>55</td>\n",
       "      <td>0.696970</td>\n",
       "    </tr>\n",
       "    <tr>\n",
       "      <th>3</th>\n",
       "      <td>AAAAAAAAAK</td>\n",
       "      <td>1</td>\n",
       "      <td>785.439552</td>\n",
       "      <td>10</td>\n",
       "      <td>5.996674e-36</td>\n",
       "      <td>5.996674e-36</td>\n",
       "      <td>5.996674e-36</td>\n",
       "      <td>0.0</td>\n",
       "      <td>0</td>\n",
       "      <td>0</td>\n",
       "      <td>754.34</td>\n",
       "      <td>3_A1_01_2769</td>\n",
       "      <td>23</td>\n",
       "      <td>0</td>\n",
       "      <td>55</td>\n",
       "      <td>0.696970</td>\n",
       "    </tr>\n",
       "    <tr>\n",
       "      <th>4</th>\n",
       "      <td>AAAAAAAAAK</td>\n",
       "      <td>1</td>\n",
       "      <td>785.439552</td>\n",
       "      <td>10</td>\n",
       "      <td>5.996677e-36</td>\n",
       "      <td>5.996677e-36</td>\n",
       "      <td>5.996677e-36</td>\n",
       "      <td>0.0</td>\n",
       "      <td>0</td>\n",
       "      <td>0</td>\n",
       "      <td>761.19</td>\n",
       "      <td>2_A1_01_2768</td>\n",
       "      <td>23</td>\n",
       "      <td>0</td>\n",
       "      <td>55</td>\n",
       "      <td>0.696970</td>\n",
       "    </tr>\n",
       "    <tr>\n",
       "      <th>...</th>\n",
       "      <td>...</td>\n",
       "      <td>...</td>\n",
       "      <td>...</td>\n",
       "      <td>...</td>\n",
       "      <td>...</td>\n",
       "      <td>...</td>\n",
       "      <td>...</td>\n",
       "      <td>...</td>\n",
       "      <td>...</td>\n",
       "      <td>...</td>\n",
       "      <td>...</td>\n",
       "      <td>...</td>\n",
       "      <td>...</td>\n",
       "      <td>...</td>\n",
       "      <td>...</td>\n",
       "      <td>...</td>\n",
       "    </tr>\n",
       "    <tr>\n",
       "      <th>319123</th>\n",
       "      <td>YYYQGCASWK</td>\n",
       "      <td>2</td>\n",
       "      <td>1324.554660</td>\n",
       "      <td>10</td>\n",
       "      <td>1.742139e-35</td>\n",
       "      <td>1.742139e-35</td>\n",
       "      <td>1.742139e-35</td>\n",
       "      <td>0.0</td>\n",
       "      <td>0</td>\n",
       "      <td>0</td>\n",
       "      <td>1994.70</td>\n",
       "      <td>1_A1_01_2767</td>\n",
       "      <td>36</td>\n",
       "      <td>0</td>\n",
       "      <td>90</td>\n",
       "      <td>0.383333</td>\n",
       "    </tr>\n",
       "    <tr>\n",
       "      <th>319124</th>\n",
       "      <td>YYYVCQYCPAMKTYLNK</td>\n",
       "      <td>3</td>\n",
       "      <td>2264.010450</td>\n",
       "      <td>17</td>\n",
       "      <td>2.726609e-35</td>\n",
       "      <td>2.726609e-35</td>\n",
       "      <td>2.726609e-35</td>\n",
       "      <td>0.0</td>\n",
       "      <td>0</td>\n",
       "      <td>0</td>\n",
       "      <td>3047.60</td>\n",
       "      <td>3_A1_01_2769</td>\n",
       "      <td>64</td>\n",
       "      <td>0</td>\n",
       "      <td>150</td>\n",
       "      <td>0.510000</td>\n",
       "    </tr>\n",
       "    <tr>\n",
       "      <th>319125</th>\n",
       "      <td>YYYVCQYCPAMKTYLNK</td>\n",
       "      <td>3</td>\n",
       "      <td>2264.010450</td>\n",
       "      <td>17</td>\n",
       "      <td>2.726609e-35</td>\n",
       "      <td>2.726609e-35</td>\n",
       "      <td>2.726609e-35</td>\n",
       "      <td>0.0</td>\n",
       "      <td>0</td>\n",
       "      <td>0</td>\n",
       "      <td>3053.50</td>\n",
       "      <td>4_A1_01_2770</td>\n",
       "      <td>64</td>\n",
       "      <td>0</td>\n",
       "      <td>150</td>\n",
       "      <td>0.510000</td>\n",
       "    </tr>\n",
       "    <tr>\n",
       "      <th>319126</th>\n",
       "      <td>YYYVPADFVEYEK</td>\n",
       "      <td>2</td>\n",
       "      <td>1684.766090</td>\n",
       "      <td>13</td>\n",
       "      <td>1.524399e-35</td>\n",
       "      <td>1.524399e-35</td>\n",
       "      <td>1.524399e-35</td>\n",
       "      <td>0.0</td>\n",
       "      <td>0</td>\n",
       "      <td>0</td>\n",
       "      <td>3863.30</td>\n",
       "      <td>1_A1_01_2767</td>\n",
       "      <td>48</td>\n",
       "      <td>0</td>\n",
       "      <td>121</td>\n",
       "      <td>0.445783</td>\n",
       "    </tr>\n",
       "    <tr>\n",
       "      <th>319127</th>\n",
       "      <td>YYYVPADFVEYEK</td>\n",
       "      <td>2</td>\n",
       "      <td>1684.766090</td>\n",
       "      <td>13</td>\n",
       "      <td>1.524399e-35</td>\n",
       "      <td>1.524399e-35</td>\n",
       "      <td>1.524399e-35</td>\n",
       "      <td>0.0</td>\n",
       "      <td>0</td>\n",
       "      <td>0</td>\n",
       "      <td>3876.60</td>\n",
       "      <td>4_A1_01_2770</td>\n",
       "      <td>48</td>\n",
       "      <td>0</td>\n",
       "      <td>121</td>\n",
       "      <td>0.445783</td>\n",
       "    </tr>\n",
       "  </tbody>\n",
       "</table>\n",
       "<p>319128 rows × 16 columns</p>\n",
       "</div>"
      ]
     },
     "execution_count": 2,
     "metadata": {},
     "output_type": "execute_result"
    }
   ],
   "execution_count": 2
  },
  {
   "metadata": {
    "ExecuteTime": {
     "end_time": "2024-10-19T21:35:48.331597Z",
     "start_time": "2024-10-19T21:35:48.326517Z"
    }
   },
   "cell_type": "code",
   "source": [
    "#data = data[data['Charge'] == 4]\n",
    "Xn = data[['Sequence', 'Mass', 'Length', 'Acetylation', 'Oxidation', 'Retention time', 'NumAtoms', 'FractionSP3']]\n",
    "y = data['CCS']\n",
    "Xn"
   ],
   "id": "a3a0672f02d87c82",
   "outputs": [],
   "execution_count": 2
  },
  {
   "metadata": {
    "ExecuteTime": {
     "end_time": "2024-10-19T21:35:59.461829Z",
     "start_time": "2024-10-19T21:35:59.455908Z"
    }
   },
   "cell_type": "code",
   "source": [
    "scaler = StandardScaler()\n",
    "y_scaled = scaler.fit_transform(y.values.reshape(-1, 1))\n",
    "y_scaled_df = pd.DataFrame(y_scaled, columns=['CCS'])\n",
    "y_scaled_df"
   ],
   "id": "f031d6148557716e",
   "outputs": [],
   "execution_count": 2
  },
  {
   "metadata": {
    "ExecuteTime": {
     "end_time": "2024-10-19T21:36:23.485997Z",
     "start_time": "2024-10-19T21:36:23.480330Z"
    }
   },
   "cell_type": "code",
   "source": [
    "print(y_scaled.max())\n",
    "print(np.argmax(y_scaled))\n",
    "print(y_scaled.min())"
   ],
   "id": "85291af8f62b0f34",
   "outputs": [],
   "execution_count": 2
  },
  {
   "metadata": {
    "ExecuteTime": {
     "end_time": "2024-10-19T21:36:32.018684Z",
     "start_time": "2024-10-19T21:36:32.014774Z"
    }
   },
   "cell_type": "code",
   "source": [
    "# Define the 20 standard amino acids and include non-standard ones\n",
    "amino_acids = 'ACDEFGHIKLMNPQRSTVWYU'\n",
    "aa_to_int = {aa: i for i, aa in enumerate(amino_acids)}\n",
    "\n",
    "def one_hot_encode(seq, max_length):\n",
    "    # Pad the sequence to the maximum length with 'X' (unknown amino acid)\n",
    "    padded_seq = seq.ljust(max_length, 'X')\n",
    "    int_encoded = [aa_to_int.get(aa, len(amino_acids)) for aa in padded_seq]  # Use a default index for unknown amino acids\n",
    "    one_hot_encoded = np.zeros((max_length, len(amino_acids) + 1))  # +1 for the unknown amino acid\n",
    "    for i, value in enumerate(int_encoded):\n",
    "        one_hot_encoded[i, value] = 1\n",
    "    return one_hot_encoded.flatten()"
   ],
   "id": "18b1d8a9ba05eb09",
   "outputs": [],
   "execution_count": 2
  },
  {
   "metadata": {
    "ExecuteTime": {
     "end_time": "2024-10-19T21:36:36.361485Z",
     "start_time": "2024-10-19T21:36:36.358231Z"
    }
   },
   "cell_type": "code",
   "source": [
    "# Determine the maximum sequence length\n",
    "max_seq_length = max(Xn['Sequence'].apply(len))\n",
    "\n",
    "# Encode the sequences\n",
    "one_hot_encoded_sequences = np.array([one_hot_encode(seq, max_seq_length) for seq in Xn['Sequence']])\n",
    "\n",
    "# Initialize the label encoder for charge states\n",
    "#label_encoder = LabelEncoder()\n",
    "#encoded_charge_states = label_encoder.fit_transform(data['Charge'].tolist())"
   ],
   "id": "60cbc1937bad7751",
   "outputs": [],
   "execution_count": 2
  },
  {
   "metadata": {
    "ExecuteTime": {
     "end_time": "2024-10-19T21:36:47.355471Z",
     "start_time": "2024-10-19T21:36:47.351984Z"
    }
   },
   "cell_type": "code",
   "source": [
    "one_hot_encoded_df = pd.DataFrame(one_hot_encoded_sequences)\n",
    "\n",
    "# Kombinieren der One-Hot-kodierten Daten mit dem ursprünglichen DataFrame\n",
    "X_combined = pd.concat([Xn.reset_index(drop=True), one_hot_encoded_df.reset_index(drop=True)], axis=1)\n",
    "X_combined.drop('Sequence', axis=1, inplace=True)\n",
    "X_combined.columns = X_combined.columns.astype(str)\n",
    "X_combined"
   ],
   "id": "405412cbab5026",
   "outputs": [],
   "execution_count": 2
  },
  {
   "metadata": {
    "ExecuteTime": {
     "end_time": "2024-10-19T21:36:57.755516Z",
     "start_time": "2024-10-19T21:36:57.751563Z"
    }
   },
   "cell_type": "code",
   "source": "X_train, X_test, y_train, y_test = train_test_split(X_combined, y_scaled, test_size=0.2, random_state=42)",
   "id": "6403a8e60b1d7954",
   "outputs": [],
   "execution_count": 2
  },
  {
   "metadata": {
    "ExecuteTime": {
     "end_time": "2024-10-19T21:37:14.369567Z",
     "start_time": "2024-10-19T21:37:14.356278Z"
    }
   },
   "cell_type": "code",
   "source": [
    "model = GradientBoostingRegressor(n_estimators=100, learning_rate=0.1, max_depth=5, random_state=42)\n",
    "model.fit(X_train, y_train)\n",
    "rmse = mean_squared_error(y_scaled, model.predict(X_combined), squared=True)\n",
    "y_pred = model.predict(X_test)\n",
    "r2 = r2_score(y_test, y_pred)"
   ],
   "id": "32fae4cf24eed90d",
   "outputs": [],
   "execution_count": 2
  },
  {
   "metadata": {
    "ExecuteTime": {
     "end_time": "2024-10-19T21:37:58.267324Z",
     "start_time": "2024-10-19T21:37:58.261997Z"
    }
   },
   "cell_type": "code",
   "source": [
    "plt.figure(figsize=(6, 6))\n",
    "plt.scatter(y_test, y_pred, color='blue', label='Vorhersagen', s= 10)\n",
    "plt.plot([y_scaled.min(), y_scaled.max()], [y_scaled.min(), y_scaled.max()], color='red', linestyle='-', label='Ideal')\n",
    "plt.xlabel('Actual values')\n",
    "plt.ylabel('Predicted values')\n",
    "plt.title(f'All charges & charge as feature; R²-Score: {r2:.4f}, MSE: {rmse:.4f}')\n",
    "plt.legend()\n",
    "plt.show()"
   ],
   "id": "fbc114d0afa05f3b",
   "outputs": [],
   "execution_count": 2
  },
  {
   "metadata": {
    "ExecuteTime": {
     "end_time": "2024-10-19T21:38:29.548941Z",
     "start_time": "2024-10-19T21:38:29.531255Z"
    }
   },
   "cell_type": "code",
   "source": [
    "xgb_train = xgb.DMatrix(X_train, y_train)\n",
    "xgb_test = xgb.DMatrix(X_test, y_test)\n",
    "params = {'max_depth': 5, 'eta': 0.1}\n",
    "model3 = xgb.train(params, dtrain=xgb_train, num_boost_round=100)"
   ],
   "id": "4412501af0c76021",
   "outputs": [],
   "execution_count": 2
  },
  {
   "metadata": {
    "ExecuteTime": {
     "end_time": "2024-10-19T21:38:45.484486Z",
     "start_time": "2024-10-19T21:38:45.481660Z"
    }
   },
   "cell_type": "code",
   "source": "y_test_array = y_test.astype(int)",
   "id": "72527211b170406c",
   "outputs": [],
   "execution_count": 2
  },
  {
   "metadata": {
    "ExecuteTime": {
     "end_time": "2024-10-19T21:38:57.407152Z",
     "start_time": "2024-10-19T21:38:57.399063Z"
    }
   },
   "cell_type": "code",
   "source": [
    "preds = model3.predict(xgb_test)\n",
    "preds = preds.astype(int)\n",
    "accuracy= accuracy_score(y_test_array,preds)\n",
    "print('Accuracy of the model is:', accuracy*100)"
   ],
   "id": "6f3888ff22402657",
   "outputs": [],
   "execution_count": 2
  },
  {
   "metadata": {
    "ExecuteTime": {
     "end_time": "2024-10-19T21:39:18.388816Z",
     "start_time": "2024-10-19T21:39:18.377711Z"
    }
   },
   "cell_type": "code",
   "source": [
    "print(y_test.dtype)\n",
    "print(preds.dtype)"
   ],
   "id": "2af3716a0734a57",
   "outputs": [],
   "execution_count": 2
  },
  {
   "metadata": {
    "ExecuteTime": {
     "end_time": "2024-10-19T21:39:32.701649Z",
     "start_time": "2024-10-19T21:39:32.695544Z"
    }
   },
   "cell_type": "code",
   "source": [
    "r2_xgb = r2_score(y_test_array, preds)\n",
    "mse_xgb = mean_squared_error(y_test_array, preds)\n",
    "print(\"Mean Squared Error of the model is:\", mse_xgb)\n",
    "print('R2 Score of the model is:', r2_xgb)\n"
   ],
   "id": "e5200b8f1ca5c951",
   "outputs": [],
   "execution_count": 2
  },
  {
   "metadata": {},
   "cell_type": "code",
   "outputs": [],
   "execution_count": null,
   "source": "",
   "id": "1c053fe025d5b30b"
  }
 ],
 "metadata": {
  "kernelspec": {
   "display_name": "Python 3",
   "language": "python",
   "name": "python3"
  },
  "language_info": {
   "codemirror_mode": {
    "name": "ipython",
    "version": 2
   },
   "file_extension": ".py",
   "mimetype": "text/x-python",
   "name": "python",
   "nbconvert_exporter": "python",
   "pygments_lexer": "ipython2",
   "version": "2.7.6"
  }
 },
 "nbformat": 4,
 "nbformat_minor": 5
}
